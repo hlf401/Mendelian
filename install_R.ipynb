{
  "cells": [
    {
      "cell_type": "markdown",
      "metadata": {
        "id": "view-in-github",
        "colab_type": "text"
      },
      "source": [
        "<a href=\"https://colab.research.google.com/github/hlf401/Mendelian/blob/master/install_R.ipynb\" target=\"_parent\"><img src=\"https://colab.research.google.com/assets/colab-badge.svg\" alt=\"Open In Colab\"/></a>"
      ]
    },
    {
      "cell_type": "raw",
      "id": "peaceful-accident",
      "metadata": {
        "id": "peaceful-accident"
      },
      "source": [
        "[appendix]"
      ]
    },
    {
      "cell_type": "markdown",
      "source": [
        "# Google Drive 操作"
      ],
      "metadata": {
        "id": "ZSLVSOvH4cbt"
      },
      "id": "ZSLVSOvH4cbt"
    },
    {
      "cell_type": "markdown",
      "source": [
        "## 挂在Google Drive目录"
      ],
      "metadata": {
        "id": "6m5WCS4J4vxM"
      },
      "id": "6m5WCS4J4vxM"
    },
    {
      "cell_type": "code",
      "source": [
        "from google.colab import drive\n",
        "drive.mount('/content/drive')"
      ],
      "metadata": {
        "colab": {
          "base_uri": "https://localhost:8080/"
        },
        "id": "xgg11O8Mym78",
        "outputId": "bd45a2ef-8458-4389-c1b4-cbb9914ac884"
      },
      "id": "xgg11O8Mym78",
      "execution_count": 1,
      "outputs": [
        {
          "output_type": "stream",
          "name": "stdout",
          "text": [
            "Mounted at /content/drive\n"
          ]
        }
      ]
    },
    {
      "cell_type": "code",
      "source": [],
      "metadata": {
        "id": "_V83Wqx0mB3e"
      },
      "id": "_V83Wqx0mB3e",
      "execution_count": null,
      "outputs": []
    },
    {
      "cell_type": "markdown",
      "source": [
        "## 操作：查看Google Drive目录"
      ],
      "metadata": {
        "id": "BdBGvt5f5Eih"
      },
      "id": "BdBGvt5f5Eih"
    },
    {
      "cell_type": "code",
      "source": [
        "!ls /content/drive/MyDrive -ls"
      ],
      "metadata": {
        "colab": {
          "base_uri": "https://localhost:8080/"
        },
        "id": "bNt4rGOO0YY7",
        "outputId": "1dfe70e9-ae57-435e-f122-adceeb2ed57e"
      },
      "id": "bNt4rGOO0YY7",
      "execution_count": 2,
      "outputs": [
        {
          "output_type": "stream",
          "name": "stdout",
          "text": [
            "total 13\n",
            "0 -rw------- 1 root root    0 Jan  9 01:54  a.txt\n",
            "4 drwx------ 2 root root 4096 Jan  8 09:10 'Colab Notebooks'\n",
            "1 -rw------- 1 root root   19 Mar 31 10:10  foo.txt\n",
            "4 drwx------ 2 root root 4096 Mar 31 09:59  Mendelian\n",
            "4 drwx------ 2 root root 4096 Jan  9 02:34  root\n"
          ]
        }
      ]
    },
    {
      "cell_type": "markdown",
      "source": [
        "#切换到运行目录"
      ],
      "metadata": {
        "id": "AFEN1vWEpxSw"
      },
      "id": "AFEN1vWEpxSw"
    },
    {
      "cell_type": "code",
      "source": [
        "#切换目录\n",
        "!cd /content/drive/MyDrive/Mendelian/tool\n",
        "!ls /content/drive/MyDrive/Mendelian/tool\n",
        "import os\n",
        "path = \"/content/drive/MyDrive/Mendelian/06.immMR\"\n",
        "os.chdir(path)\n",
        "print(os.getcwd())\n",
        "!pwd\n",
        "\n",
        "\n"
      ],
      "metadata": {
        "id": "3cmoqRfKr-fl",
        "colab": {
          "base_uri": "https://localhost:8080/"
        },
        "outputId": "6e3e9a03-e9d9-4533-fc0e-4e4c9d8f21bb"
      },
      "id": "3cmoqRfKr-fl",
      "execution_count": 3,
      "outputs": [
        {
          "output_type": "stream",
          "name": "stdout",
          "text": [
            "/content/drive/MyDrive/Mendelian/06.immMR\n",
            "/content/drive/MyDrive/Mendelian/06.immMR\n"
          ]
        }
      ]
    },
    {
      "cell_type": "markdown",
      "source": [
        "# 安装tools"
      ],
      "metadata": {
        "id": "ZybU5-RHr09v"
      },
      "id": "ZybU5-RHr09v"
    },
    {
      "cell_type": "code",
      "source": [
        "if (!requireNamespace(\"BiocManager\", quietly = TRUE))\n",
        "    install.packages(\"BiocManager\")\n",
        "\n",
        "BiocManager::install(\"limma\")"
      ],
      "metadata": {
        "colab": {
          "base_uri": "https://localhost:8080/"
        },
        "id": "HXkDexyBlCdf",
        "outputId": "a81cba2b-fd89-44be-bfb7-8cdb27a0c5e4"
      },
      "id": "HXkDexyBlCdf",
      "execution_count": 1,
      "outputs": [
        {
          "output_type": "stream",
          "name": "stderr",
          "text": [
            "Installing package into ‘/usr/local/lib/R/site-library’\n",
            "(as ‘lib’ is unspecified)\n",
            "\n",
            "'getOption(\"repos\")' replaces Bioconductor standard repositories, see\n",
            "'help(\"repositories\", package = \"BiocManager\")' for details.\n",
            "Replacement repositories:\n",
            "    CRAN: https://cran.rstudio.com\n",
            "\n",
            "Bioconductor version 3.20 (BiocManager 1.30.25), R 4.4.3 (2025-02-28)\n",
            "\n",
            "Installing package(s) 'BiocVersion', 'limma'\n",
            "\n",
            "also installing the dependency ‘statmod’\n",
            "\n",
            "\n",
            "Old packages: 'broom', 'foreign', 'nlme'\n",
            "\n"
          ]
        }
      ]
    },
    {
      "cell_type": "code",
      "source": [
        "install.packages(\"devtools\")\n",
        "devtools::install_github(\"mrcieu/gwasglue\", force = TRUE)\n",
        "\n",
        "install.packages(\"remotes\")\n",
        "remotes::install_github(\"MRCIEU/TwoSampleMR\")"
      ],
      "metadata": {
        "colab": {
          "base_uri": "https://localhost:8080/"
        },
        "id": "k7fy7NFBlWL7",
        "outputId": "98f33b24-3528-4ccb-d4fe-0cb1ea86b08c"
      },
      "id": "k7fy7NFBlWL7",
      "execution_count": null,
      "outputs": [
        {
          "output_type": "stream",
          "name": "stderr",
          "text": [
            "Installing package into ‘/usr/local/lib/R/site-library’\n",
            "(as ‘lib’ is unspecified)\n",
            "\n",
            "Downloading GitHub repo mrcieu/gwasglue@HEAD\n",
            "\n"
          ]
        },
        {
          "output_type": "stream",
          "name": "stdout",
          "text": [
            "gwasvcf      (NA -> 477b365da...) [GitHub]\n",
            "MRPRESSO     (NA -> 3e3c92d7e...) [GitHub]\n",
            "ieugwasr     (NA -> 4827c8f28...) [GitHub]\n",
            "TwoSampleMR  (NA -> ffc9964bb...) [GitHub]\n",
            "RadialMR     (NA -> 4ec0e0931...) [GitHub]\n",
            "MRMix        (NA -> 56afdb2bc...) [GitHub]\n",
            "susieR       (NA -> ded019663...) [GitHub]\n",
            "plyr         (NA -> 1.8.9       ) [CRAN]\n",
            "RcppArmad... (NA -> 14.4.1-1    ) [CRAN]\n",
            "irlba        (NA -> 2.3.5.1     ) [CRAN]\n",
            "iterators    (NA -> 1.0.14      ) [CRAN]\n",
            "RcppEigen    (NA -> 0.3.4.0.2   ) [CRAN]\n",
            "shape        (NA -> 1.4.6.1     ) [CRAN]\n",
            "foreach      (NA -> 1.5.2       ) [CRAN]\n",
            "MatrixModels (NA -> 0.5-4       ) [CRAN]\n",
            "SparseM      (NA -> 1.84-2      ) [CRAN]\n",
            "arrangements (NA -> 1.1.9       ) [CRAN]\n",
            "gmp          (NA -> 0.7-5       ) [CRAN]\n",
            "DEoptimR     (NA -> 1.1-3-1     ) [CRAN]\n",
            "crosstalk    (NA -> 1.2.1       ) [CRAN]\n",
            "lazyeval     (NA -> 0.2.2       ) [CRAN]\n",
            "reshape      (NA -> 0.8.9       ) [CRAN]\n",
            "mixsqp       (NA -> 0.3-54      ) [CRAN]\n",
            "matrixStats  (NA -> 1.5.0       ) [CRAN]\n",
            "numDeriv     (NA -> 2016.8-1.1  ) [CRAN]\n",
            "glmnet       (NA -> 4.1-8       ) [CRAN]\n",
            "rjson        (NA -> 0.2.23      ) [CRAN]\n",
            "quantreg     (NA -> 6.1         ) [CRAN]\n",
            "iterpc       (NA -> 0.4.2       ) [CRAN]\n",
            "robustbase   (NA -> 0.99-4-1    ) [CRAN]\n",
            "plotly       (NA -> 4.10.4      ) [CRAN]\n",
            "Mendelian... (NA -> 0.10.0      ) [CRAN]\n"
          ]
        },
        {
          "output_type": "stream",
          "name": "stderr",
          "text": [
            "Skipping 1 packages not available: mr.raps\n",
            "\n",
            "Downloading GitHub repo mrcieu/gwasvcf@HEAD\n",
            "\n"
          ]
        },
        {
          "output_type": "stream",
          "name": "stdout",
          "text": [
            "genetics.... (NA -> b0324f180...) [GitHub]\n",
            "gwasglue2    (NA -> c93b3a1fc...) [GitHub]\n",
            "plogr        (NA -> 0.2.0       ) [CRAN]\n",
            "bitops       (NA -> 1.0-9       ) [CRAN]\n",
            "RSQLite      (NA -> 2.3.9       ) [CRAN]\n",
            "RCurl        (NA -> 1.98-1.17   ) [CRAN]\n"
          ]
        },
        {
          "output_type": "stream",
          "name": "stderr",
          "text": [
            "Skipping 9 packages not available: VariantAnnotation, SummarizedExperiment, S4Vectors, Rsamtools, IRanges, GenomicRanges, GenomeInfoDb, Biostrings, BiocGenerics\n",
            "\n",
            "Downloading GitHub repo mrcieu/genetics.binaRies@HEAD\n",
            "\n"
          ]
        },
        {
          "output_type": "stream",
          "name": "stdout",
          "text": [
            "\u001b[36m──\u001b[39m \u001b[36mR CMD build\u001b[39m \u001b[36m─────────────────────────────────────────────────────────────────\u001b[39m\n",
            "* checking for file ‘/tmp/RtmpIKL0PP/remotes136269accd95/MRCIEU-genetics.binaRies-b0324f1/DESCRIPTION’ ... OK\n",
            "* preparing ‘genetics.binaRies’:\n",
            "* checking DESCRIPTION meta-information ... OK\n",
            "* checking for LF line-endings in source and make files and shell scripts\n",
            "* checking for empty or unneeded directories\n",
            "* building ‘genetics.binaRies_0.1.1.tar.gz’\n",
            "\n"
          ]
        },
        {
          "output_type": "stream",
          "name": "stderr",
          "text": [
            "Installing package into ‘/usr/local/lib/R/site-library’\n",
            "(as ‘lib’ is unspecified)\n",
            "\n",
            "Downloading GitHub repo mrcieu/gwasglue2@HEAD\n",
            "\n"
          ]
        },
        {
          "output_type": "stream",
          "name": "stdout",
          "text": [
            "\n",
            "\u001b[36m──\u001b[39m \u001b[36mR CMD build\u001b[39m \u001b[36m─────────────────────────────────────────────────────────────────\u001b[39m\n",
            "* checking for file ‘/tmp/RtmpIKL0PP/remotes136251ea7af1/MRCIEU-gwasglue2-c93b3a1/DESCRIPTION’ ... OK\n",
            "* preparing ‘gwasglue2’:\n",
            "* checking DESCRIPTION meta-information ... OK\n",
            "* checking for LF line-endings in source and make files and shell scripts\n",
            "* checking for empty or unneeded directories\n",
            "* building ‘gwasglue2_0.0.0.9000.tar.gz’\n",
            "\n"
          ]
        },
        {
          "output_type": "stream",
          "name": "stderr",
          "text": [
            "Installing package into ‘/usr/local/lib/R/site-library’\n",
            "(as ‘lib’ is unspecified)\n",
            "\n",
            "Installing 13 packages: plogr, bitops, VariantAnnotation, SummarizedExperiment, S4Vectors, RSQLite, Rsamtools, RCurl, IRanges, GenomicRanges, GenomeInfoDb, Biostrings, BiocGenerics\n",
            "\n",
            "Installing packages into ‘/usr/local/lib/R/site-library’\n",
            "(as ‘lib’ is unspecified)\n",
            "\n",
            "Warning message:\n",
            "“packages ‘VariantAnnotation’, ‘SummarizedExperiment’, ‘S4Vectors’, ‘Rsamtools’, ‘IRanges’, ‘GenomicRanges’, ‘GenomeInfoDb’, ‘Biostrings’, ‘BiocGenerics’ are not available for this version of R\n",
            "\n",
            "Versions of these packages for your version of R might be available elsewhere,\n",
            "see the ideas at\n",
            "https://cran.r-project.org/doc/manuals/r-patched/R-admin.html#Installing-packages”\n",
            "Downloading GitHub repo mrcieu/genetics.binaRies@HEAD\n",
            "\n",
            "Skipping genetics.binaRies, it is already being installed\n",
            "\n",
            "Downloading GitHub repo mrcieu/gwasglue2@HEAD\n",
            "\n",
            "Skipping gwasglue2, it is already being installed\n",
            "\n"
          ]
        },
        {
          "output_type": "stream",
          "name": "stdout",
          "text": [
            "\u001b[36m──\u001b[39m \u001b[36mR CMD build\u001b[39m \u001b[36m─────────────────────────────────────────────────────────────────\u001b[39m\n",
            "* checking for file ‘/tmp/RtmpIKL0PP/remotes1362fa44267/MRCIEU-gwasvcf-477b365/DESCRIPTION’ ... OK\n",
            "* preparing ‘gwasvcf’:\n",
            "* checking DESCRIPTION meta-information ... OK\n",
            "* checking for LF line-endings in source and make files and shell scripts\n",
            "* checking for empty or unneeded directories\n",
            "* building ‘gwasvcf_0.1.2.tar.gz’\n",
            "\n"
          ]
        },
        {
          "output_type": "stream",
          "name": "stderr",
          "text": [
            "Installing package into ‘/usr/local/lib/R/site-library’\n",
            "(as ‘lib’ is unspecified)\n",
            "\n",
            "Warning message in i.p(...):\n",
            "“installation of package ‘/tmp/RtmpIKL0PP/file13623fb1a592/gwasvcf_0.1.2.tar.gz’ had non-zero exit status”\n",
            "Downloading GitHub repo rondolab/MR-PRESSO@HEAD\n",
            "\n"
          ]
        },
        {
          "output_type": "stream",
          "name": "stdout",
          "text": [
            "\u001b[36m──\u001b[39m \u001b[36mR CMD build\u001b[39m \u001b[36m─────────────────────────────────────────────────────────────────\u001b[39m\n",
            "* checking for file ‘/tmp/RtmpIKL0PP/remotes13625516c7b6/rondolab-MR-PRESSO-3e3c92d/DESCRIPTION’ ... OK\n",
            "* preparing ‘MRPRESSO’:\n",
            "* checking DESCRIPTION meta-information ... OK\n",
            "* installing the package to process help pages\n",
            "* saving partial Rd database\n",
            "* checking for LF line-endings in source and make files and shell scripts\n",
            "* checking for empty or unneeded directories\n",
            "* looking to see if a ‘data/datalist’ file should be added\n",
            "* building ‘MRPRESSO_1.0.tar.gz’\n",
            "\n"
          ]
        },
        {
          "output_type": "stream",
          "name": "stderr",
          "text": [
            "Installing package into ‘/usr/local/lib/R/site-library’\n",
            "(as ‘lib’ is unspecified)\n",
            "\n",
            "Downloading GitHub repo mrcieu/ieugwasr@HEAD\n",
            "\n"
          ]
        },
        {
          "output_type": "stream",
          "name": "stdout",
          "text": [
            "\n",
            "\u001b[36m──\u001b[39m \u001b[36mR CMD build\u001b[39m \u001b[36m─────────────────────────────────────────────────────────────────\u001b[39m\n",
            "* checking for file ‘/tmp/RtmpIKL0PP/remotes136220a07f73/MRCIEU-ieugwasr-4827c8f/DESCRIPTION’ ... OK\n",
            "* preparing ‘ieugwasr’:\n",
            "* checking DESCRIPTION meta-information ... OK\n",
            "* checking for LF line-endings in source and make files and shell scripts\n",
            "* checking for empty or unneeded directories\n",
            "* building ‘ieugwasr_1.0.3.tar.gz’\n",
            "\n"
          ]
        },
        {
          "output_type": "stream",
          "name": "stderr",
          "text": [
            "Installing package into ‘/usr/local/lib/R/site-library’\n",
            "(as ‘lib’ is unspecified)\n",
            "\n",
            "Downloading GitHub repo mrcieu/TwoSampleMR@HEAD\n",
            "\n"
          ]
        },
        {
          "output_type": "stream",
          "name": "stdout",
          "text": [
            "MRMix        (NA -> 56afdb2bc...) [GitHub]\n",
            "RadialMR     (NA -> 4ec0e0931...) [GitHub]\n",
            "crosstalk    (NA -> 1.2.1       ) [CRAN]\n",
            "lazyeval     (NA -> 0.2.2       ) [CRAN]\n",
            "rbibutils    (NA -> 2.3         ) [CRAN]\n",
            "Rdpack       (NA -> 2.6.3       ) [CRAN]\n",
            "RcppEigen    (NA -> 0.3.4.0.2   ) [CRAN]\n",
            "reformulas   (NA -> 0.4.0       ) [CRAN]\n",
            "nloptr       (NA -> 2.2.1       ) [CRAN]\n",
            "minqa        (NA -> 1.2.8       ) [CRAN]\n",
            "pbapply      (NA -> 1.7-2       ) [CRAN]\n",
            "mathjaxr     (NA -> 1.6-0       ) [CRAN]\n",
            "numDeriv     (NA -> 2016.8-1.1  ) [CRAN]\n",
            "metadat      (NA -> 1.4-0       ) [CRAN]\n",
            "iterators    (NA -> 1.0.14      ) [CRAN]\n",
            "plyr         (NA -> 1.8.9       ) [CRAN]\n",
            "plotly       (NA -> 4.10.4      ) [CRAN]\n",
            "GPArotation  (NA -> 2024.3-1    ) [CRAN]\n",
            "mnormt       (NA -> 2.1.1       ) [CRAN]\n",
            "CompQuadForm (NA -> 1.4.3       ) [CRAN]\n",
            "lme4         (NA -> 1.1-37      ) [CRAN]\n",
            "metafor      (NA -> 4.8-0       ) [CRAN]\n",
            "shape        (NA -> 1.4.6.1     ) [CRAN]\n",
            "foreach      (NA -> 1.5.2       ) [CRAN]\n",
            "reshape2     (NA -> 1.4.4       ) [CRAN]\n",
            "psych        (NA -> 2.5.3       ) [CRAN]\n",
            "meta         (NA -> 8.0-2       ) [CRAN]\n",
            "gridExtra    (NA -> 2.3         ) [CRAN]\n",
            "glmnet       (NA -> 4.1-8       ) [CRAN]\n",
            "cowplot      (NA -> 1.1.3       ) [CRAN]\n"
          ]
        },
        {
          "output_type": "stream",
          "name": "stderr",
          "text": [
            "Downloading GitHub repo gqi/MRMix@HEAD\n",
            "\n"
          ]
        },
        {
          "output_type": "stream",
          "name": "stdout",
          "text": [
            "\u001b[36m──\u001b[39m \u001b[36mR CMD build\u001b[39m \u001b[36m─────────────────────────────────────────────────────────────────\u001b[39m\n",
            "* checking for file ‘/tmp/RtmpIKL0PP/remotes136277d6ef62/gqi-MRMix-56afdb2/DESCRIPTION’ ... OK\n",
            "* preparing ‘MRMix’:\n",
            "* checking DESCRIPTION meta-information ... OK\n",
            "* checking for LF line-endings in source and make files and shell scripts\n",
            "* checking for empty or unneeded directories\n",
            "* building ‘MRMix_0.1.0.tar.gz’\n",
            "\n"
          ]
        },
        {
          "output_type": "stream",
          "name": "stderr",
          "text": [
            "Installing package into ‘/usr/local/lib/R/site-library’\n",
            "(as ‘lib’ is unspecified)\n",
            "\n",
            "Downloading GitHub repo WSpiller/RadialMR@HEAD\n",
            "\n"
          ]
        },
        {
          "output_type": "stream",
          "name": "stdout",
          "text": [
            "lazyeval  (NA -> 0.2.2 ) [CRAN]\n",
            "crosstalk (NA -> 1.2.1 ) [CRAN]\n",
            "plotly    (NA -> 4.10.4) [CRAN]\n"
          ]
        },
        {
          "output_type": "stream",
          "name": "stderr",
          "text": [
            "Installing 3 packages: lazyeval, crosstalk, plotly\n",
            "\n",
            "Installing packages into ‘/usr/local/lib/R/site-library’\n",
            "(as ‘lib’ is unspecified)\n",
            "\n"
          ]
        }
      ]
    },
    {
      "cell_type": "code",
      "source": [
        "\n",
        "#引用包\n",
        "library(VariantAnnotation)\n",
        "library(gwasglue)\n",
        "library(TwoSampleMR)"
      ],
      "metadata": {
        "colab": {
          "base_uri": "https://localhost:8080/",
          "height": 109
        },
        "id": "zMDA-Csf9-aT",
        "outputId": "2a54b23d-1e88-4aad-d9c2-98882095feae"
      },
      "id": "zMDA-Csf9-aT",
      "execution_count": 2,
      "outputs": [
        {
          "output_type": "error",
          "ename": "ERROR",
          "evalue": "Error in library(VariantAnnotation): there is no package called ‘VariantAnnotation’\n",
          "traceback": [
            "Error in library(VariantAnnotation): there is no package called ‘VariantAnnotation’\nTraceback:\n",
            "1. stop(packageNotFoundError(package, lib.loc, sys.call()))"
          ]
        }
      ]
    },
    {
      "cell_type": "code",
      "source": [
        "exposureFile=\"imm.exposure.F.csv\"        #免疫细胞的暴露数据文件\n",
        "outcomeID=\"ieu-a-8\"                      #结局数据id(需修改)\n",
        "outcomeName=\"Coronary heart disease\"     #设置图形中展示疾病的名称\n",
        "setwd(\"/content/drive/MyDrive/Mendelian/06.immMR\")     #设置工作目录\n",
        "\n",
        "#读取暴露数据\n",
        "exposure_dat=read_exposure_data(filename=exposureFile,\n",
        "                                sep = \",\",\n",
        "                                snp_col = \"SNP\",\n",
        "                                beta_col = \"beta.exposure\",\n",
        "                                se_col = \"se.exposure\",\n",
        "                                pval_col = \"pval.exposure\",\n",
        "                                effect_allele_col=\"effect_allele.exposure\",\n",
        "                                other_allele_col = \"other_allele.exposure\",\n",
        "                                eaf_col = \"eaf.exposure\",\n",
        "                                phenotype_col = \"exposure\",\n",
        "                                id_col = \"id.exposure\",\n",
        "                                samplesize_col = \"samplesize.exposure\",\n",
        "                                chr_col=\"chr.exposure\", pos_col = \"pos.exposure\",\n",
        "                                clump=FALSE)#我改了FALSE为TRUE 测试\n",
        "\n",
        "#读取结局数据\n",
        "# 查找原始SNPs时候的切分块, default is 10000\n",
        "# 查找到ieu-a-8对应的SNPs时候的切分块 default is 500\n",
        "outcomeData=extract_outcome_data(snps=exposure_dat$SNP, outcomes=outcomeID, splitsize = 50, proxy_splitsize = 20)\n",
        "write.csv(outcomeData, file=\"outcome.csv\", row.names=F)"
      ],
      "metadata": {
        "id": "H8E6a7xKDWCR"
      },
      "id": "H8E6a7xKDWCR",
      "execution_count": null,
      "outputs": []
    },
    {
      "cell_type": "markdown",
      "source": [
        "## 操作：写入Google Drive文件"
      ],
      "metadata": {
        "id": "h-CU9UYp44oq"
      },
      "id": "h-CU9UYp44oq"
    },
    {
      "cell_type": "code",
      "source": [
        "with open('/content/drive/My Drive/foo.txt', 'w') as f:\n",
        "  f.write('Hello Google Drive!')\n",
        "!cat /content/drive/My\\ Drive/foo.txt"
      ],
      "metadata": {
        "id": "-lqk-FKHz3XU",
        "outputId": "d6502179-8f94-4185-d37c-4b02882d886c",
        "colab": {
          "base_uri": "https://localhost:8080/"
        }
      },
      "id": "-lqk-FKHz3XU",
      "execution_count": null,
      "outputs": [
        {
          "output_type": "stream",
          "name": "stdout",
          "text": [
            "Hello Google Drive!"
          ]
        }
      ]
    },
    {
      "cell_type": "code",
      "source": [
        "!ls / -ls"
      ],
      "metadata": {
        "colab": {
          "base_uri": "https://localhost:8080/"
        },
        "id": "YkQs6Mg83yUW",
        "outputId": "34b4a043-ebb0-4556-eabd-b07bf14130d6"
      },
      "id": "YkQs6Mg83yUW",
      "execution_count": null,
      "outputs": [
        {
          "output_type": "stream",
          "name": "stdout",
          "text": [
            "total 444\n",
            "  0 lrwxrwxrwx   1 root root      7 Oct  4  2023 bin -> usr/bin\n",
            "  4 drwxr-xr-x   2 root root   4096 Apr 18  2022 boot\n",
            "  4 drwxr-xr-x   1 root root   4096 Jan  9 02:22 content\n",
            "  8 -rw-r--r--   1 root root   4332 Nov 10  2023 cuda-keyring_1.0-1_all.deb\n",
            "  4 drwxr-xr-x   1 root root   4096 Jan  7 14:32 datalab\n",
            "  0 drwxr-xr-x   5 root root    360 Jan  9 02:20 dev\n",
            "  4 drwxr-xr-x   1 root root   4096 Jan  9 02:20 etc\n",
            "  4 drwxr-xr-x   2 root root   4096 Apr 18  2022 home\n",
            "  0 lrwxrwxrwx   1 root root      7 Oct  4  2023 lib -> usr/lib\n",
            "  0 lrwxrwxrwx   1 root root      9 Oct  4  2023 lib32 -> usr/lib32\n",
            "  0 lrwxrwxrwx   1 root root      9 Oct  4  2023 lib64 -> usr/lib64\n",
            "  0 lrwxrwxrwx   1 root root     10 Oct  4  2023 libx32 -> usr/libx32\n",
            "  4 drwxr-xr-x   2 root root   4096 Oct  4  2023 media\n",
            "  4 drwxr-xr-x   2 root root   4096 Oct  4  2023 mnt\n",
            " 20 -rw-r--r--   1 root root  17294 Nov 10  2023 NGC-DL-CONTAINER-LICENSE\n",
            "  4 drwxr-xr-x   1 root root   4096 Jan  7 14:48 opt\n",
            "  0 dr-xr-xr-x 198 root root      0 Jan  9 02:20 proc\n",
            "  4 drwxrwxr-x  14 root root   4096 Jan  7 14:20 python-apt\n",
            "340 -r-xr-xr-x   1 root root 346012 Jan  1  2000 python-apt.tar.xz\n",
            "  8 drwx------   1 root root   4096 Jan  9 02:38 root\n",
            "  4 drwxr-xr-x   1 root root   4096 Jan  7 14:15 run\n",
            "  0 lrwxrwxrwx   1 root root      8 Oct  4  2023 sbin -> usr/sbin\n",
            "  4 drwxr-xr-x   2 root root   4096 Oct  4  2023 srv\n",
            "  0 dr-xr-xr-x  13 root root      0 Jan  9 02:20 sys\n",
            "  4 drwxrwxrwt   1 root root   4096 Jan  9 02:45 tmp\n",
            "  4 drwxr-xr-x   1 root root   4096 Jan  7 14:32 tools\n",
            "  8 drwxr-xr-x   1 root root   4096 Jan  7 14:33 usr\n",
            "  8 drwxr-xr-x   1 root root   4096 Jan  7 14:32 var\n"
          ]
        }
      ]
    },
    {
      "cell_type": "code",
      "source": [
        "install.packages(\"babynames\")\n",
        "\n",
        "library(babynames)\n",
        "\n",
        "str(babynames)\n",
        "\n",
        "bruno_df <- babynames[babynames$name == \"Bruno\", ]\n",
        "\n",
        "plot(x = bruno_df$year,\n",
        "    y = bruno_df$n,\n",
        "    type = \"l\",\n",
        "    main = \"Popularity of the name Bruno\")"
      ],
      "metadata": {
        "id": "krF6lSth9ODw",
        "outputId": "ea597ce7-da91-4b73-cffb-22f899ff47b2",
        "colab": {
          "base_uri": "https://localhost:8080/",
          "height": 109
        }
      },
      "id": "krF6lSth9ODw",
      "execution_count": null,
      "outputs": [
        {
          "output_type": "error",
          "ename": "SyntaxError",
          "evalue": "invalid syntax (<ipython-input-1-e8197d8251b8>, line 7)",
          "traceback": [
            "\u001b[0;36m  File \u001b[0;32m\"<ipython-input-1-e8197d8251b8>\"\u001b[0;36m, line \u001b[0;32m7\u001b[0m\n\u001b[0;31m    bruno_df <- babynames[babynames$name == \"Bruno\", ]\u001b[0m\n\u001b[0m                                   ^\u001b[0m\n\u001b[0;31mSyntaxError\u001b[0m\u001b[0;31m:\u001b[0m invalid syntax\n"
          ]
        }
      ]
    },
    {
      "cell_type": "markdown",
      "source": [
        "##创建symbol link to Google Drive的目录"
      ],
      "metadata": {
        "id": "6VWt7RZH91c7"
      },
      "id": "6VWt7RZH91c7"
    },
    {
      "cell_type": "code",
      "source": [
        "#!mkdir -p /content/drive/MyDrive/root/.fastai\n",
        "!ln -s /content/drive/MyDrive/root/.fastai /root/.fastai"
      ],
      "metadata": {
        "colab": {
          "base_uri": "https://localhost:8080/"
        },
        "id": "rEaVbr2w9Run",
        "outputId": "e74a9451-c172-4d31-e134-30b070c2370e"
      },
      "id": "rEaVbr2w9Run",
      "execution_count": null,
      "outputs": [
        {
          "output_type": "stream",
          "name": "stdout",
          "text": [
            "ln: failed to create symbolic link '/root/.fastai/.fastai': File exists\n"
          ]
        }
      ]
    },
    {
      "cell_type": "code",
      "source": [
        "!ls /root/.fastai -ls"
      ],
      "metadata": {
        "colab": {
          "base_uri": "https://localhost:8080/"
        },
        "id": "jYOxg7xK9V2u",
        "outputId": "03c5e638-0d60-4bfa-d80a-69a7fec8da81"
      },
      "id": "jYOxg7xK9V2u",
      "execution_count": null,
      "outputs": [
        {
          "output_type": "stream",
          "name": "stdout",
          "text": [
            "total 0\n"
          ]
        }
      ]
    },
    {
      "cell_type": "code",
      "source": [
        "!ls /content/drive/MyDrive/root/.fastai/ -ls\n",
        "#!mkdir -p /root/.fastai\n",
        "#!ls /root  -ls\n",
        "!pwd\n",
        "!ls /content/ -ls\n",
        "!ls /content/drive/MyDrive/root -ls"
      ],
      "metadata": {
        "colab": {
          "base_uri": "https://localhost:8080/"
        },
        "id": "owp3hrzD6-63",
        "outputId": "9b277a30-5af4-4706-be0b-8a612908ec7d"
      },
      "id": "owp3hrzD6-63",
      "execution_count": null,
      "outputs": [
        {
          "output_type": "stream",
          "name": "stdout",
          "text": [
            "total 0\n",
            "/content\n",
            "total 8\n",
            "4 drwx------ 7 root root 4096 Jan  9 02:22 drive\n",
            "4 drwxr-xr-x 1 root root 4096 Jan  7 14:22 sample_data\n",
            "total 0\n"
          ]
        }
      ]
    },
    {
      "cell_type": "markdown",
      "source": [
        "## 操作：flush数据和umount"
      ],
      "metadata": {
        "id": "O-1VPaEU5TBA"
      },
      "id": "O-1VPaEU5TBA"
    },
    {
      "cell_type": "code",
      "source": [
        "drive.flush_and_unmount()\n",
        "print('All changes made in this colab session should now be visible in Drive.')"
      ],
      "metadata": {
        "colab": {
          "base_uri": "https://localhost:8080/"
        },
        "id": "ECbf7sa60CXB",
        "outputId": "a9bec9f9-68a4-4872-f0e2-8e86b985c023"
      },
      "id": "ECbf7sa60CXB",
      "execution_count": null,
      "outputs": [
        {
          "output_type": "stream",
          "name": "stdout",
          "text": [
            "All changes made in this colab session should now be visible in Drive.\n"
          ]
        }
      ]
    },
    {
      "cell_type": "markdown",
      "id": "differential-highlight",
      "metadata": {
        "id": "differential-highlight"
      },
      "source": [
        "## Multi-GPU Training"
      ]
    },
    {
      "cell_type": "code",
      "execution_count": null,
      "id": "global-nirvana",
      "metadata": {
        "id": "global-nirvana"
      },
      "outputs": [],
      "source": [
        "from torch import nn"
      ]
    },
    {
      "cell_type": "code",
      "execution_count": null,
      "id": "favorite-variety",
      "metadata": {
        "id": "favorite-variety"
      },
      "outputs": [],
      "source": [
        "model = nn.Transformer()\n",
        "model = nn.DataParallel(model)"
      ]
    },
    {
      "cell_type": "markdown",
      "id": "peaceful-puzzle",
      "metadata": {
        "id": "peaceful-puzzle"
      },
      "source": [
        "## Distributed Training"
      ]
    },
    {
      "cell_type": "markdown",
      "id": "necessary-technology",
      "metadata": {
        "id": "necessary-technology"
      },
      "source": [
        "## What Makes Deep Training fast?"
      ]
    }
  ],
  "metadata": {
    "kernelspec": {
      "display_name": "R",
      "name": "ir"
    },
    "language_info": {
      "name": "R"
    },
    "colab": {
      "provenance": [],
      "include_colab_link": true
    }
  },
  "nbformat": 4,
  "nbformat_minor": 5
}