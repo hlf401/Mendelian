{
  "cells": [
    {
      "cell_type": "markdown",
      "metadata": {
        "id": "view-in-github",
        "colab_type": "text"
      },
      "source": [
        "<a href=\"https://colab.research.google.com/github/hlf401/Mendelian/blob/master/install_R.ipynb\" target=\"_parent\"><img src=\"https://colab.research.google.com/assets/colab-badge.svg\" alt=\"Open In Colab\"/></a>"
      ]
    },
    {
      "cell_type": "raw",
      "id": "peaceful-accident",
      "metadata": {
        "id": "peaceful-accident"
      },
      "source": [
        "[appendix]"
      ]
    },
    {
      "cell_type": "markdown",
      "source": [
        "# Google Drive 操作"
      ],
      "metadata": {
        "id": "ZSLVSOvH4cbt"
      },
      "id": "ZSLVSOvH4cbt"
    },
    {
      "cell_type": "markdown",
      "source": [
        "## 挂在Google Drive目录"
      ],
      "metadata": {
        "id": "6m5WCS4J4vxM"
      },
      "id": "6m5WCS4J4vxM"
    },
    {
      "cell_type": "code",
      "source": [
        "from google.colab import drive\n",
        "drive.mount('/content/drive')"
      ],
      "metadata": {
        "colab": {
          "base_uri": "https://localhost:8080/"
        },
        "id": "xgg11O8Mym78",
        "outputId": "72a98a0d-7c7d-48f1-b58b-f4e82ebecf75"
      },
      "id": "xgg11O8Mym78",
      "execution_count": 1,
      "outputs": [
        {
          "output_type": "stream",
          "name": "stdout",
          "text": [
            "Mounted at /content/drive\n"
          ]
        }
      ]
    },
    {
      "cell_type": "markdown",
      "source": [
        "## 操作：查看Google Drive目录"
      ],
      "metadata": {
        "id": "BdBGvt5f5Eih"
      },
      "id": "BdBGvt5f5Eih"
    },
    {
      "cell_type": "code",
      "source": [
        "!ls /content/drive/MyDrive -ls"
      ],
      "metadata": {
        "colab": {
          "base_uri": "https://localhost:8080/"
        },
        "id": "bNt4rGOO0YY7",
        "outputId": "af009d11-d027-4158-9d10-da4f178a0866"
      },
      "id": "bNt4rGOO0YY7",
      "execution_count": 3,
      "outputs": [
        {
          "output_type": "stream",
          "name": "stdout",
          "text": [
            "total 13\n",
            "0 -rw------- 1 root root    0 Jan  9 01:54  a.txt\n",
            "4 drwx------ 2 root root 4096 Jan  8 09:10 'Colab Notebooks'\n",
            "1 -rw------- 1 root root   19 Mar 31 10:10  foo.txt\n",
            "4 drwx------ 2 root root 4096 Mar 31 09:59  Mendelian\n",
            "4 drwx------ 2 root root 4096 Jan  9 02:34  root\n"
          ]
        }
      ]
    },
    {
      "cell_type": "markdown",
      "source": [
        "# 安装R4.3.2"
      ],
      "metadata": {
        "id": "ZybU5-RHr09v"
      },
      "id": "ZybU5-RHr09v"
    },
    {
      "cell_type": "code",
      "source": [
        "#切换目录\n",
        "!cd /content/drive/MyDrive/Mendelian/tool\n",
        "!ls /content/drive/MyDrive/Mendelian/tool\n",
        "import os\n",
        "path = \"/content/drive/MyDrive/Mendelian/tool\"\n",
        "os.chdir(path)\n",
        "print(os.getcwd())\n",
        "!pwd\n",
        "\n",
        "#安装R\n",
        "!tar -zxvf  R-4.3.2.tar.gz\n",
        "\n"
      ],
      "metadata": {
        "id": "3cmoqRfKr-fl"
      },
      "id": "3cmoqRfKr-fl",
      "execution_count": null,
      "outputs": []
    },
    {
      "cell_type": "code",
      "source": [
        "# 安装脚本\n",
        "!cd R-4.3.2\n",
        "path = \"/content/drive/MyDrive/Mendelian/tool/R-4.3.2\"\n",
        "os.chdir(path)\n",
        "!./configure --prefix=/home/ihou/R --with-x=no\n",
        "!make\n",
        "!make install"
      ],
      "metadata": {
        "id": "fOJ3wS_RuUB6"
      },
      "id": "fOJ3wS_RuUB6",
      "execution_count": null,
      "outputs": []
    },
    {
      "cell_type": "code",
      "source": [
        "# 配置环境变量\n",
        "!export PATH=\"$PATH:/home/ihou/R/bin\""
      ],
      "metadata": {
        "id": "8W0trd3Tt5BQ"
      },
      "id": "8W0trd3Tt5BQ",
      "execution_count": null,
      "outputs": []
    },
    {
      "cell_type": "markdown",
      "source": [
        "## 操作：写入Google Drive文件"
      ],
      "metadata": {
        "id": "h-CU9UYp44oq"
      },
      "id": "h-CU9UYp44oq"
    },
    {
      "cell_type": "code",
      "source": [
        "with open('/content/drive/My Drive/foo.txt', 'w') as f:\n",
        "  f.write('Hello Google Drive!')\n",
        "!cat /content/drive/My\\ Drive/foo.txt"
      ],
      "metadata": {
        "id": "-lqk-FKHz3XU",
        "outputId": "d6502179-8f94-4185-d37c-4b02882d886c",
        "colab": {
          "base_uri": "https://localhost:8080/"
        }
      },
      "id": "-lqk-FKHz3XU",
      "execution_count": 2,
      "outputs": [
        {
          "output_type": "stream",
          "name": "stdout",
          "text": [
            "Hello Google Drive!"
          ]
        }
      ]
    },
    {
      "cell_type": "code",
      "source": [
        "!ls / -ls"
      ],
      "metadata": {
        "colab": {
          "base_uri": "https://localhost:8080/"
        },
        "id": "YkQs6Mg83yUW",
        "outputId": "34b4a043-ebb0-4556-eabd-b07bf14130d6"
      },
      "id": "YkQs6Mg83yUW",
      "execution_count": null,
      "outputs": [
        {
          "output_type": "stream",
          "name": "stdout",
          "text": [
            "total 444\n",
            "  0 lrwxrwxrwx   1 root root      7 Oct  4  2023 bin -> usr/bin\n",
            "  4 drwxr-xr-x   2 root root   4096 Apr 18  2022 boot\n",
            "  4 drwxr-xr-x   1 root root   4096 Jan  9 02:22 content\n",
            "  8 -rw-r--r--   1 root root   4332 Nov 10  2023 cuda-keyring_1.0-1_all.deb\n",
            "  4 drwxr-xr-x   1 root root   4096 Jan  7 14:32 datalab\n",
            "  0 drwxr-xr-x   5 root root    360 Jan  9 02:20 dev\n",
            "  4 drwxr-xr-x   1 root root   4096 Jan  9 02:20 etc\n",
            "  4 drwxr-xr-x   2 root root   4096 Apr 18  2022 home\n",
            "  0 lrwxrwxrwx   1 root root      7 Oct  4  2023 lib -> usr/lib\n",
            "  0 lrwxrwxrwx   1 root root      9 Oct  4  2023 lib32 -> usr/lib32\n",
            "  0 lrwxrwxrwx   1 root root      9 Oct  4  2023 lib64 -> usr/lib64\n",
            "  0 lrwxrwxrwx   1 root root     10 Oct  4  2023 libx32 -> usr/libx32\n",
            "  4 drwxr-xr-x   2 root root   4096 Oct  4  2023 media\n",
            "  4 drwxr-xr-x   2 root root   4096 Oct  4  2023 mnt\n",
            " 20 -rw-r--r--   1 root root  17294 Nov 10  2023 NGC-DL-CONTAINER-LICENSE\n",
            "  4 drwxr-xr-x   1 root root   4096 Jan  7 14:48 opt\n",
            "  0 dr-xr-xr-x 198 root root      0 Jan  9 02:20 proc\n",
            "  4 drwxrwxr-x  14 root root   4096 Jan  7 14:20 python-apt\n",
            "340 -r-xr-xr-x   1 root root 346012 Jan  1  2000 python-apt.tar.xz\n",
            "  8 drwx------   1 root root   4096 Jan  9 02:38 root\n",
            "  4 drwxr-xr-x   1 root root   4096 Jan  7 14:15 run\n",
            "  0 lrwxrwxrwx   1 root root      8 Oct  4  2023 sbin -> usr/sbin\n",
            "  4 drwxr-xr-x   2 root root   4096 Oct  4  2023 srv\n",
            "  0 dr-xr-xr-x  13 root root      0 Jan  9 02:20 sys\n",
            "  4 drwxrwxrwt   1 root root   4096 Jan  9 02:45 tmp\n",
            "  4 drwxr-xr-x   1 root root   4096 Jan  7 14:32 tools\n",
            "  8 drwxr-xr-x   1 root root   4096 Jan  7 14:33 usr\n",
            "  8 drwxr-xr-x   1 root root   4096 Jan  7 14:32 var\n"
          ]
        }
      ]
    },
    {
      "cell_type": "code",
      "source": [
        "install.packages(\"babynames\")\n",
        "\n",
        "library(babynames)\n",
        "\n",
        "str(babynames)\n",
        "\n",
        "bruno_df <- babynames[babynames$name == \"Bruno\", ]\n",
        "\n",
        "plot(x = bruno_df$year,\n",
        "    y = bruno_df$n,\n",
        "    type = \"l\",\n",
        "    main = \"Popularity of the name Bruno\")"
      ],
      "metadata": {
        "id": "krF6lSth9ODw",
        "outputId": "ea597ce7-da91-4b73-cffb-22f899ff47b2",
        "colab": {
          "base_uri": "https://localhost:8080/",
          "height": 109
        }
      },
      "id": "krF6lSth9ODw",
      "execution_count": 1,
      "outputs": [
        {
          "output_type": "error",
          "ename": "SyntaxError",
          "evalue": "invalid syntax (<ipython-input-1-e8197d8251b8>, line 7)",
          "traceback": [
            "\u001b[0;36m  File \u001b[0;32m\"<ipython-input-1-e8197d8251b8>\"\u001b[0;36m, line \u001b[0;32m7\u001b[0m\n\u001b[0;31m    bruno_df <- babynames[babynames$name == \"Bruno\", ]\u001b[0m\n\u001b[0m                                   ^\u001b[0m\n\u001b[0;31mSyntaxError\u001b[0m\u001b[0;31m:\u001b[0m invalid syntax\n"
          ]
        }
      ]
    },
    {
      "cell_type": "markdown",
      "source": [
        "##创建symbol link to Google Drive的目录"
      ],
      "metadata": {
        "id": "6VWt7RZH91c7"
      },
      "id": "6VWt7RZH91c7"
    },
    {
      "cell_type": "code",
      "source": [
        "#!mkdir -p /content/drive/MyDrive/root/.fastai\n",
        "!ln -s /content/drive/MyDrive/root/.fastai /root/.fastai"
      ],
      "metadata": {
        "colab": {
          "base_uri": "https://localhost:8080/"
        },
        "id": "rEaVbr2w9Run",
        "outputId": "e74a9451-c172-4d31-e134-30b070c2370e"
      },
      "id": "rEaVbr2w9Run",
      "execution_count": null,
      "outputs": [
        {
          "output_type": "stream",
          "name": "stdout",
          "text": [
            "ln: failed to create symbolic link '/root/.fastai/.fastai': File exists\n"
          ]
        }
      ]
    },
    {
      "cell_type": "code",
      "source": [
        "!ls /root/.fastai -ls"
      ],
      "metadata": {
        "colab": {
          "base_uri": "https://localhost:8080/"
        },
        "id": "jYOxg7xK9V2u",
        "outputId": "03c5e638-0d60-4bfa-d80a-69a7fec8da81"
      },
      "id": "jYOxg7xK9V2u",
      "execution_count": null,
      "outputs": [
        {
          "output_type": "stream",
          "name": "stdout",
          "text": [
            "total 0\n"
          ]
        }
      ]
    },
    {
      "cell_type": "code",
      "source": [
        "!ls /content/drive/MyDrive/root/.fastai/ -ls\n",
        "#!mkdir -p /root/.fastai\n",
        "#!ls /root  -ls\n",
        "!pwd\n",
        "!ls /content/ -ls\n",
        "!ls /content/drive/MyDrive/root -ls"
      ],
      "metadata": {
        "colab": {
          "base_uri": "https://localhost:8080/"
        },
        "id": "owp3hrzD6-63",
        "outputId": "9b277a30-5af4-4706-be0b-8a612908ec7d"
      },
      "id": "owp3hrzD6-63",
      "execution_count": null,
      "outputs": [
        {
          "output_type": "stream",
          "name": "stdout",
          "text": [
            "total 0\n",
            "/content\n",
            "total 8\n",
            "4 drwx------ 7 root root 4096 Jan  9 02:22 drive\n",
            "4 drwxr-xr-x 1 root root 4096 Jan  7 14:22 sample_data\n",
            "total 0\n"
          ]
        }
      ]
    },
    {
      "cell_type": "markdown",
      "source": [
        "## 操作：flush数据和umount"
      ],
      "metadata": {
        "id": "O-1VPaEU5TBA"
      },
      "id": "O-1VPaEU5TBA"
    },
    {
      "cell_type": "code",
      "source": [
        "drive.flush_and_unmount()\n",
        "print('All changes made in this colab session should now be visible in Drive.')"
      ],
      "metadata": {
        "colab": {
          "base_uri": "https://localhost:8080/"
        },
        "id": "ECbf7sa60CXB",
        "outputId": "a9bec9f9-68a4-4872-f0e2-8e86b985c023"
      },
      "id": "ECbf7sa60CXB",
      "execution_count": null,
      "outputs": [
        {
          "output_type": "stream",
          "name": "stdout",
          "text": [
            "All changes made in this colab session should now be visible in Drive.\n"
          ]
        }
      ]
    },
    {
      "cell_type": "markdown",
      "id": "differential-highlight",
      "metadata": {
        "id": "differential-highlight"
      },
      "source": [
        "## Multi-GPU Training"
      ]
    },
    {
      "cell_type": "code",
      "execution_count": null,
      "id": "global-nirvana",
      "metadata": {
        "id": "global-nirvana"
      },
      "outputs": [],
      "source": [
        "from torch import nn"
      ]
    },
    {
      "cell_type": "code",
      "execution_count": null,
      "id": "favorite-variety",
      "metadata": {
        "id": "favorite-variety"
      },
      "outputs": [],
      "source": [
        "model = nn.Transformer()\n",
        "model = nn.DataParallel(model)"
      ]
    },
    {
      "cell_type": "markdown",
      "id": "peaceful-puzzle",
      "metadata": {
        "id": "peaceful-puzzle"
      },
      "source": [
        "## Distributed Training"
      ]
    },
    {
      "cell_type": "markdown",
      "id": "necessary-technology",
      "metadata": {
        "id": "necessary-technology"
      },
      "source": [
        "## What Makes Deep Training fast?"
      ]
    }
  ],
  "metadata": {
    "kernelspec": {
      "display_name": "Python 3 (ipykernel)",
      "language": "python",
      "name": "python3"
    },
    "language_info": {
      "codemirror_mode": {
        "name": "ipython",
        "version": 3
      },
      "file_extension": ".py",
      "mimetype": "text/x-python",
      "name": "python",
      "nbconvert_exporter": "python",
      "pygments_lexer": "ipython3",
      "version": "3.8.20"
    },
    "colab": {
      "provenance": [],
      "include_colab_link": true
    }
  },
  "nbformat": 4,
  "nbformat_minor": 5
}